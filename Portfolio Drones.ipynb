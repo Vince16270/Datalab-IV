{
 "cells": [
  {
   "cell_type": "markdown",
   "metadata": {},
   "source": [
    "# **Project Drones**"
   ]
  },
  {
   "cell_type": "markdown",
   "metadata": {},
   "source": [
    "### Inladen van de libraries"
   ]
  },
  {
   "cell_type": "code",
   "execution_count": 1,
   "metadata": {},
   "outputs": [],
   "source": [
    "import pandas as pd\n",
    "import os\n",
    "from PIL import Image\n",
    "import matplotlib.pyplot as plt\n",
    "from sklearn.model_selection import train_test_split\n",
    "import seaborn as sns\n",
    "import numpy as np\n",
    "from tensorflow import keras\n",
    "from tensorflow.keras import layers"
   ]
  },
  {
   "cell_type": "markdown",
   "metadata": {},
   "source": [
    "### Inladen van data"
   ]
  },
  {
   "cell_type": "code",
   "execution_count": 2,
   "metadata": {},
   "outputs": [
    {
     "ename": "UnidentifiedImageError",
     "evalue": "cannot identify image file 'train/.DS_Store'",
     "output_type": "error",
     "traceback": [
      "\u001b[0;31m---------------------------------------------------------------------------\u001b[0m",
      "\u001b[0;31mUnidentifiedImageError\u001b[0m                    Traceback (most recent call last)",
      "Cell \u001b[0;32mIn[2], line 31\u001b[0m\n\u001b[1;32m     28\u001b[0m     plt\u001b[38;5;241m.\u001b[39mshow()\n\u001b[1;32m     30\u001b[0m train_map_pad \u001b[38;5;241m=\u001b[39m \u001b[38;5;124m'\u001b[39m\u001b[38;5;124mtrain\u001b[39m\u001b[38;5;124m'\u001b[39m\n\u001b[0;32m---> 31\u001b[0m train_afbeeldingen \u001b[38;5;241m=\u001b[39m \u001b[43mlaad_afbeeldingen\u001b[49m\u001b[43m(\u001b[49m\u001b[43mtrain_map_pad\u001b[49m\u001b[43m)\u001b[49m\n\u001b[1;32m     33\u001b[0m test_map_pad \u001b[38;5;241m=\u001b[39m \u001b[38;5;124m'\u001b[39m\u001b[38;5;124mtest\u001b[39m\u001b[38;5;124m'\u001b[39m\n\u001b[1;32m     34\u001b[0m test_afbeeldingen \u001b[38;5;241m=\u001b[39m laad_afbeeldingen(test_map_pad)\n",
      "Cell \u001b[0;32mIn[2], line 8\u001b[0m, in \u001b[0;36mlaad_afbeeldingen\u001b[0;34m(map_pad)\u001b[0m\n\u001b[1;32m      6\u001b[0m     afbeelding_pad \u001b[38;5;241m=\u001b[39m os\u001b[38;5;241m.\u001b[39mpath\u001b[38;5;241m.\u001b[39mjoin(map_pad, bestandsnaam)\n\u001b[1;32m      7\u001b[0m     \u001b[38;5;28;01mif\u001b[39;00m os\u001b[38;5;241m.\u001b[39mpath\u001b[38;5;241m.\u001b[39misfile(afbeelding_pad):\n\u001b[0;32m----> 8\u001b[0m         afbeelding \u001b[38;5;241m=\u001b[39m \u001b[43mImage\u001b[49m\u001b[38;5;241;43m.\u001b[39;49m\u001b[43mopen\u001b[49m\u001b[43m(\u001b[49m\u001b[43mafbeelding_pad\u001b[49m\u001b[43m)\u001b[49m\n\u001b[1;32m      9\u001b[0m         afbeeldingen\u001b[38;5;241m.\u001b[39mappend(np\u001b[38;5;241m.\u001b[39marray(afbeelding))\n\u001b[1;32m     11\u001b[0m \u001b[38;5;28;01mreturn\u001b[39;00m np\u001b[38;5;241m.\u001b[39marray(afbeeldingen)\n",
      "File \u001b[0;32m~/tensorflow-test/env/lib/python3.8/site-packages/PIL/Image.py:3309\u001b[0m, in \u001b[0;36mopen\u001b[0;34m(fp, mode, formats)\u001b[0m\n\u001b[1;32m   3307\u001b[0m     warnings\u001b[38;5;241m.\u001b[39mwarn(message)\n\u001b[1;32m   3308\u001b[0m msg \u001b[38;5;241m=\u001b[39m \u001b[38;5;124m\"\u001b[39m\u001b[38;5;124mcannot identify image file \u001b[39m\u001b[38;5;132;01m%r\u001b[39;00m\u001b[38;5;124m\"\u001b[39m \u001b[38;5;241m%\u001b[39m (filename \u001b[38;5;28;01mif\u001b[39;00m filename \u001b[38;5;28;01melse\u001b[39;00m fp)\n\u001b[0;32m-> 3309\u001b[0m \u001b[38;5;28;01mraise\u001b[39;00m UnidentifiedImageError(msg)\n",
      "\u001b[0;31mUnidentifiedImageError\u001b[0m: cannot identify image file 'train/.DS_Store'"
     ]
    }
   ],
   "source": [
    "def laad_afbeeldingen(map_pad):\n",
    "    afbeeldingen = []\n",
    "    bestandsnamen = os.listdir(map_pad)\n",
    "\n",
    "    for bestandsnaam in bestandsnamen:\n",
    "        afbeelding_pad = os.path.join(map_pad, bestandsnaam)\n",
    "        if os.path.isfile(afbeelding_pad):\n",
    "            afbeelding = Image.open(afbeelding_pad)\n",
    "            afbeeldingen.append(np.array(afbeelding))\n",
    "\n",
    "    return np.array(afbeeldingen)\n",
    "\n",
    "def toon_willekeurige_afbeeldingen_per_set(train_afbeeldingen, test_afbeeldingen, valid_afbeeldingen):\n",
    "    train_afbeelding = train_afbeeldingen[np.random.randint(len(train_afbeeldingen))]\n",
    "    test_afbeelding = test_afbeeldingen[np.random.randint(len(test_afbeeldingen))]\n",
    "    valid_afbeelding = valid_afbeeldingen[np.random.randint(len(valid_afbeeldingen))]\n",
    "\n",
    "    fig, axs = plt.subplots(1, 3, figsize=(15, 5))\n",
    "    axs[0].imshow(train_afbeelding)\n",
    "    axs[0].set_title(\"Train Set\")\n",
    "    axs[0].axis('off')\n",
    "    axs[1].imshow(test_afbeelding)\n",
    "    axs[1].set_title(\"Test Set\")\n",
    "    axs[1].axis('off')\n",
    "    axs[2].imshow(valid_afbeelding)\n",
    "    axs[2].set_title(\"Valid Set\")\n",
    "    axs[2].axis('off')\n",
    "    plt.show()\n",
    "\n",
    "train_map_pad = 'train'\n",
    "train_afbeeldingen = laad_afbeeldingen(train_map_pad)\n",
    "\n",
    "test_map_pad = 'test'\n",
    "test_afbeeldingen = laad_afbeeldingen(test_map_pad)\n",
    "\n",
    "valid_map_pad = 'valid'\n",
    "valid_afbeeldingen = laad_afbeeldingen(valid_map_pad)\n",
    "\n",
    "display(train_afbeeldingen.shape, test_afbeeldingen.shape, valid_afbeeldingen.shape)\n",
    "toon_willekeurige_afbeeldingen_per_set(train_afbeeldingen, test_afbeeldingen, valid_afbeeldingen)"
   ]
  },
  {
   "cell_type": "code",
   "execution_count": null,
   "metadata": {},
   "outputs": [],
   "source": []
  }
 ],
 "metadata": {
  "kernelspec": {
   "display_name": "Python 3",
   "language": "python",
   "name": "python3"
  },
  "language_info": {
   "codemirror_mode": {
    "name": "ipython",
    "version": 3
   },
   "file_extension": ".py",
   "mimetype": "text/x-python",
   "name": "python",
   "nbconvert_exporter": "python",
   "pygments_lexer": "ipython3",
   "version": "3.8.16"
  }
 },
 "nbformat": 4,
 "nbformat_minor": 2
}
