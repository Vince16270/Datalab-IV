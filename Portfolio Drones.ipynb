{
 "cells": [
  {
   "cell_type": "markdown",
   "metadata": {},
   "source": [
    "## **Schapen detecteren**"
   ]
  },
  {
   "cell_type": "markdown",
   "metadata": {},
   "source": [
    "### Inladen van de libraries"
   ]
  },
  {
   "cell_type": "code",
   "execution_count": null,
   "metadata": {},
   "outputs": [],
   "source": [
    "import pandas as pd\n",
    "import os\n",
    "from PIL import Image\n",
    "import matplotlib.pyplot as plt\n",
    "from sklearn.model_selection import train_test_split\n",
    "import seaborn as sns\n",
    "import numpy as np\n",
    "from tensorflow import keras\n",
    "from tensorflow.keras import layers"
   ]
  },
  {
   "cell_type": "markdown",
   "metadata": {},
   "source": [
    "### Inladen van data"
   ]
  },
  {
   "cell_type": "code",
   "execution_count": null,
   "metadata": {},
   "outputs": [],
   "source": [
    "def toon_afbeeldingen_van_dataset(map_pad, dataset_naam, aantal=1):\n",
    "    bestandsnamen = os.listdir(map_pad)\n",
    "    aantal_afbeeldingen = len(bestandsnamen)  \n",
    "\n",
    "    print(f\"Aantal afbeeldingen in {dataset_naam} map: {aantal_afbeeldingen}\")\n",
    "\n",
    "    for i in range(min(aantal, aantal_afbeeldingen)):\n",
    "        afbeelding_pad = os.path.join(map_pad, bestandsnamen[i])\n",
    "        afbeelding = Image.open(afbeelding_pad)\n",
    "        afbeelding_shape = afbeelding.size  \n",
    "\n",
    "        plt.imshow(afbeelding)\n",
    "        plt.title(f'Plaatje {i+1}: {dataset_naam} - Shape: {afbeelding_shape}')\n",
    "        plt.show()"
   ]
  },
  {
   "cell_type": "code",
   "execution_count": null,
   "metadata": {},
   "outputs": [],
   "source": [
    "# Train map\n",
    "train_map_pad = 'train'\n",
    "toon_afbeeldingen_van_dataset(train_map_pad, 'Train')\n",
    "\n",
    "# Test map\n",
    "test_map_pad = 'test'\n",
    "toon_afbeeldingen_van_dataset(test_map_pad, 'Test')\n",
    "\n",
    "# Valid map\n",
    "valid_map_pad = 'valid'\n",
    "toon_afbeeldingen_van_dataset(valid_map_pad, 'Valid')"
   ]
  },
  {
   "cell_type": "code",
   "execution_count": null,
   "metadata": {},
   "outputs": [],
   "source": [
    "# Annotaties inlezen\n",
    "train_annotaties_path = 'train_annotations.csv'\n",
    "train_annotaties_df = pd.read_csv(train_annotaties_path)\n",
    "\n",
    "merge_df = train_annotaties_df.groupby('filename').size().reset_index(name='aantal_schapen')\n",
    "merge_df.head(5)"
   ]
  },
  {
   "cell_type": "code",
   "execution_count": null,
   "metadata": {},
   "outputs": [],
   "source": [
    "# Functie om afbeeldingen te laden op basis van bestandspaden\n",
    "def load_images_from_file_paths(file_paths):\n",
    "    images = []\n",
    "    for file_path in file_paths:\n",
    "        try:\n",
    "            image = Image.open(file_path)\n",
    "            images.append(image)\n",
    "        except Exception as e:\n",
    "            print(f\"Fout bij het openen van afbeelding {file_path}: {e}\")\n",
    "    return images"
   ]
  },
  {
   "cell_type": "markdown",
   "metadata": {},
   "source": [
    "### DataFrames maken"
   ]
  },
  {
   "cell_type": "code",
   "execution_count": null,
   "metadata": {},
   "outputs": [],
   "source": [
    "# Groepen op bestandsnaam en aantal schapen tellen\n",
    "aantal_schapen_per_afbeelding = train_annotaties_df.groupby('filename').size().reset_index(name='aantal_schapen')\n",
    "\n",
    "train_files, test_valid_files = train_test_split(aantal_schapen_per_afbeelding['filename'], test_size=0.2, random_state=42)\n",
    "test_files, valid_files = train_test_split(test_valid_files, test_size=0.5, random_state=42)\n",
    "\n",
    "# Dataframes voor de train, test en valid sets\n",
    "train_df = aantal_schapen_per_afbeelding[aantal_schapen_per_afbeelding['filename'].isin(train_files)]\n",
    "test_df = pd.DataFrame({'filename': test_files})\n",
    "valid_df = pd.DataFrame({'filename': valid_files})\n",
    "\n",
    "train_folder_files = [os.path.join(train_map_pad, filename) for filename in os.listdir(train_map_pad) if filename.lower().endswith(('.jpg', '.jpeg', '.png'))]\n",
    "test_folder_files = [os.path.join(test_map_pad, filename) for filename in os.listdir(test_map_pad) if filename.lower().endswith(('.jpg', '.jpeg', '.png'))]\n",
    "valid_folder_files = [os.path.join(valid_map_pad, filename) for filename in os.listdir(valid_map_pad) if filename.lower().endswith(('.jpg', '.jpeg', '.png'))]\n",
    "\n",
    "# Maak dataframes met de werkelijke bestandsnamen\n",
    "train_df = pd.DataFrame({'filename': train_folder_files})\n",
    "test_df = pd.DataFrame({'filename': test_folder_files})\n",
    "valid_df = pd.DataFrame({'filename': valid_folder_files})\n",
    "\n",
    "# Laad train-, test- en validatieafbeeldingen\n",
    "train_images = load_images_from_file_paths(train_df['filename'].values)\n",
    "test_images = load_images_from_file_paths(test_df['filename'].values)\n",
    "valid_images = load_images_from_file_paths(valid_df['filename'].values)\n",
    "\n",
    "# Sluit de geopende afbeeldingen om te voorkomen dat er te veel bestanden open blijven\n",
    "for image in train_images + test_images + valid_images:\n",
    "    image.close()\n",
    "\n",
    "# Print de lengtes van de sets\n",
    "print(\"Train set lengte:\", len(train_df))\n",
    "print(\"Test set lengte:\", len(test_df))\n",
    "print(\"Valid set lengte:\", len(valid_df))"
   ]
  },
  {
   "cell_type": "markdown",
   "metadata": {},
   "source": [
    "### **Data preprocessing**"
   ]
  },
  {
   "cell_type": "code",
   "execution_count": null,
   "metadata": {},
   "outputs": [],
   "source": [
    "train_df"
   ]
  },
  {
   "cell_type": "code",
   "execution_count": null,
   "metadata": {},
   "outputs": [],
   "source": [
    "train_df['filename'] = train_df['filename'].apply(lambda x: os.path.basename(x))\n",
    "test_df['filename'] = test_df['filename'].apply(lambda x: os.path.basename(x))\n",
    "valid_df['filename'] = valid_df['filename'].apply(lambda x: os.path.basename(x))"
   ]
  },
  {
   "cell_type": "code",
   "execution_count": null,
   "metadata": {},
   "outputs": [],
   "source": [
    "merge_df['filename'] = merge_df['filename'].apply(lambda x: os.path.normpath(x))\n",
    "train_df['filename'] = train_df['filename'].apply(lambda x: os.path.normpath(x))\n",
    "\n",
    "# Merge de dataframes op 'filename'\n",
    "train_df = pd.merge(train_df, merge_df, on='filename', how='left')\n",
    "train_df"
   ]
  },
  {
   "cell_type": "code",
   "execution_count": null,
   "metadata": {},
   "outputs": [],
   "source": [
    "display(train_df.head(5))\n",
    "display(test_df.head(5))\n",
    "display(valid_df.head(5))"
   ]
  },
  {
   "cell_type": "markdown",
   "metadata": {},
   "source": [
    "## EDA Afbeeldingen"
   ]
  },
  {
   "cell_type": "code",
   "execution_count": null,
   "metadata": {},
   "outputs": [],
   "source": [
    "min_aantal_schapen = train_df['aantal_schapen'].min()\n",
    "max_aantal_schapen = train_df['aantal_schapen'].max()\n",
    "\n",
    "plt.hist(train_df['aantal_schapen'], bins=range(int(min_aantal_schapen), int(max_aantal_schapen)+1))\n",
    "plt.title('Histogram van aantal schapen per afbeelding')\n",
    "plt.xlabel('Aantal schapen')\n",
    "plt.ylabel('Aantal afbeeldingen')\n",
    "plt.show()\n",
    "\n",
    "print(train_df[\"aantal_schapen\"].describe())\n",
    "\n",
    "print(\"Modus:\", train_df[\"aantal_schapen\"].mode())"
   ]
  },
  {
   "cell_type": "code",
   "execution_count": null,
   "metadata": {},
   "outputs": [],
   "source": [
    "sns.boxplot(x=train_df['aantal_schapen'])\n",
    "plt.title('Boxplot van aantal schapen per afbeelding')\n",
    "plt.xlabel('Aantal schapen')\n",
    "plt.show()"
   ]
  },
  {
   "cell_type": "markdown",
   "metadata": {},
   "source": [
    "### Model"
   ]
  },
  {
   "cell_type": "code",
   "execution_count": null,
   "metadata": {},
   "outputs": [],
   "source": [
    "schapen_teller_model = keras.Sequential([\n",
    "    layers.Conv2D(16, (3, 3), activation='relu', input_shape=(600, 600, 3)),\n",
    "    layers.MaxPooling2D(2, 2),\n",
    "    layers.Conv2D(32, (3, 3), activation='relu'),\n",
    "    layers.MaxPooling2D(2, 2),\n",
    "    layers.Conv2D(64, (3, 3), activation='relu'),\n",
    "    layers.MaxPooling2D(2, 2),\n",
    "    layers.Flatten(),\n",
    "    layers.Dense(512, activation='relu'),\n",
    "    layers.Dense(1, activation='linear')])"
   ]
  },
  {
   "cell_type": "markdown",
   "metadata": {},
   "source": [
    "Het gebruik van de lineaire activatiefunctie in de laatste  neuron is geschikt voor regressieproblemen, waarbij we een continue uitvoer willen voorspellen in plaats van een classificatie. In het geval van het tellen van schapen op afbeeldingen, willen we een getal voorspellen dat het aantal schapen op de afbeelding vertegenwoordigt, wat een continue variabele is."
   ]
  },
  {
   "cell_type": "code",
   "execution_count": null,
   "metadata": {},
   "outputs": [],
   "source": [
    "## Maken van x_train en y_train\n",
    "x_train = train_df\n",
    "y_train = train_df['aantal_schapen']"
   ]
  },
  {
   "cell_type": "code",
   "execution_count": null,
   "metadata": {},
   "outputs": [],
   "source": [
    "# Naar numpy arrays\n",
    "x_train = np.array(x_train)\n",
    "y_train = np.array(y_train)"
   ]
  },
  {
   "cell_type": "code",
   "execution_count": null,
   "metadata": {},
   "outputs": [],
   "source": [
    "# Compile  model\n",
    "schapen_teller_model.compile(optimizer='adam', loss='mean_squared_error')"
   ]
  },
  {
   "cell_type": "markdown",
   "metadata": {},
   "source": [
    "**Mean Squared Error:**\n",
    " \n",
    " MSE kwadrateert het verschil tussen de voorspelde waarden en de werkelijke waarden en neemt het gemiddelde over alle voorbeelden. Door het kwadrateren van het verschil worden grote fouten zwaarder gewogen dan kleine fouten, wat nuttig is omdat we willen dat ons model zich meer bewust is van grotere afwijkingen. Voor het tellen van schapen willen we de afwijking tussen het voorspelde aantal schapen en het werkelijke aantal schapen minimaliseren, dus MSE is een wordt daarom onze keus.\n",
    "\n",
    "**Adam Optimizer:**\n",
    "\n",
    "De reden voor Adam is omdat Adam een zeer populaire techniek en aansluit bij ons regressieprobleem\n"
   ]
  },
  {
   "cell_type": "code",
   "execution_count": null,
   "metadata": {},
   "outputs": [],
   "source": [
    "# Train the model\n",
    "schapen_teller_model.fit(x_train, y_train, epochs=10, batch_size=32)"
   ]
  }
 ],
 "metadata": {
  "kernelspec": {
   "display_name": "Python 3",
   "language": "python",
   "name": "python3"
  },
  "language_info": {
   "codemirror_mode": {
    "name": "ipython",
    "version": 3
   },
   "file_extension": ".py",
   "mimetype": "text/x-python",
   "name": "python",
   "nbconvert_exporter": "python",
   "pygments_lexer": "ipython3",
   "version": "3.9.6"
  }
 },
 "nbformat": 4,
 "nbformat_minor": 2
}
